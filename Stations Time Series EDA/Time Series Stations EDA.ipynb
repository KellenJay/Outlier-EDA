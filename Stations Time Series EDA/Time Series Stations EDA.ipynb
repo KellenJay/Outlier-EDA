{
 "cells": [
  {
   "cell_type": "markdown",
   "id": "c616df60-b80b-4a89-b67d-e3f035af9f87",
   "metadata": {},
   "source": [
    "# Comparative Time Series Analysis of Air Quality Across All Stations (MER, TLA, BJU, PED)\n",
    "\n",
    "This document presents a consolidated time series analysis of air quality across four monitoring stations: **MER, TLA, BJU, and PED.**\n",
    "\n",
    "It follows a structured approach to compare AQI trends, seasonal variations, pollutant distributions, and weather effects, highlighting key similarities and differences among the stations. \n",
    "\n",
    "The insights derived from this analysis provide a comprehensive understanding of regional pollution patterns and suggest targeted interventions for improving air quality.\n"
   ]
  },
  {
   "cell_type": "markdown",
   "id": "a9369178-f064-4207-8e0a-1dde8f95c913",
   "metadata": {},
   "source": [
    "# 1. Overall Trends in AQI\n",
    "   \n",
    "**Similarities:**\n",
    "\n",
    "1. All four stations exhibit seasonal patterns, with AQI levels peaking during winter months **(December–February)** and dropping during summer **(June–August).**\n",
    "2. High daily fluctuations in AQI at all stations suggest that air quality is strongly influenced by short-term factors such as weather, pollution events, and human activity.\n",
    "3. he general trend across stations indicates improving air quality mid-2022, followed by a gradual decline towards late 2023.\n",
    "\n",
    "**Differences:**\n",
    "\n",
    "1. **Absolute AQI Values:** MER consistently records the highest AQI, followed by PED. BJU and TLA have relatively lower AQI values, suggesting better air quality.\n",
    "2. **Magnitude of Fluctuations:** MER and PED stations experience larger AQI swings compared to BJU and TLA, indicating higher sensitivity to pollution events.\n",
    "3. **Specific Peaks and Dips:** Unique local factors influence air quality at each station. The PED station saw a sharp increase in AQI in early 2024, while BJU recorded an unusual peak in January 2023.\n"
   ]
  },
  {
   "cell_type": "markdown",
   "id": "28dd0765-8bf1-47f5-ac52-53e3ca4a4676",
   "metadata": {},
   "source": [
    "# 2. Smoothed AQI (30-Day Rolling Average)\n",
    "\n",
    "**Similarities:**\n",
    "\n",
    "1. The rolling average for all stations shows a steady improvement in AQI in mid-2022, followed by a gradual worsening in 2023.\n",
    "2. Winter months consistently have higher AQI across all locations, indicating a common seasonal impact on pollution levels.\n",
    "\n",
    "**Differences:**\n",
    "\n",
    "1. All stations appear to have similar pronounced peaks and dips in the rolling average.\n",
    "2. The rate of AQI for all stations **increased in late 2023.**\n"
   ]
  },
  {
   "cell_type": "markdown",
   "id": "136239d6-ce84-414c-9db7-6be3788df87e",
   "metadata": {},
   "source": [
    "# 3. 365-Day Rolling Average of AQI\n",
    "\n",
    "•\tThe 365-day analysis confirms that AQI trends observed over shorter periods are **not anomalies but long-term patterns.**\n",
    "\n",
    "•\tNotable **dips in AQI** occur around **mid-2021, mid-2022, and late 2023,** potentially due to seasonal effects, policy changes, or reduced emissions for all the stations.\n"
   ]
  },
  {
   "cell_type": "markdown",
   "id": "8c0be2b7-ea68-41df-a03b-5e6c6c205c4f",
   "metadata": {},
   "source": [
    "# 4. Decomposing Time Series\n",
    "\n",
    "**Trend Direction and Magnitude:**\n",
    "\n",
    "1. All stations display an **increasing AQI trend** from 2021 to 2023, with a temporary decline in mid-2022.\n",
    "2. Compared to the other 3 stations which followed a similar trend, the **TLA station's** AQI level shows a higher peak in the initial year (2021) then declines gradually.\n",
    "\n",
    "**Seasonality Strength:**\n",
    "\n",
    "•\tSeasonal effects are similar for all stations showing clear cyclical peaks and troughs.\n",
    "\n",
    "**Magnitude of Residuals:**\n",
    "\n",
    "1. **MER, BJU and PED had larger residuals,** suggesting a higher impact of short-term, unpredictable pollution events.\n",
    "2. The **TLA station had the lowest residual** fluctuations indicating more stable air quality trends.\n"
   ]
  },
  {
   "cell_type": "markdown",
   "id": "ffacc88b-f90a-4a5c-ab12-29e9167716f1",
   "metadata": {},
   "source": [
    "# 5. Effect of Weather on AQI\n",
    "\n",
    "**Temperature:**\n",
    "\n",
    "1. **Higher AQI during colder months** suggests an inverse relationship between temperature and pollution levels.\n",
    "2. **AQI is lowest during summer** across all stations, aligning with increased atmospheric dispersion.\n",
    "\n",
    "**Humidity:**\n",
    "\n",
    "•\tThere are fluctuations in humidity but AQI remains the stable.\n",
    "\n",
    "**Wind Speed:**\n",
    "\n",
    "1. Higher wind speeds are associated with lower AQI values, indicating **pollutant dispersion.**\n",
    "2. Wind speeds at **BJU, MER and PED** stations are generally **lower**, potentially contributing to their higher AQI levels.\n"
   ]
  },
  {
   "cell_type": "markdown",
   "id": "33810942-0859-40dc-a767-cabb5090ce7a",
   "metadata": {},
   "source": [
    "# 6. Air Quality Distribution by Season\n",
    "\n",
    "**Similarities:**\n",
    "\n",
    "1. All stations experience their highest AQI **mean levels** in winter and lowest in summer.\n",
    "2. PM10 and PM2.5 concentrations peak in winter, likely due to temperature inversions trapping pollutants.\n",
    "3. Ozone (O3) reaches its highest levels in spring and early summer across all locations.\n",
    "\n",
    "**Differences:**\n",
    "\n",
    "1. NO2 levels are more elevated at PED and BJU during colder months, possibly due to higher traffic emissions.\n",
    "2. The TLA station has a higher **median level** in the winter compared to the other stations.\n"
   ]
  },
  {
   "cell_type": "markdown",
   "id": "ee878027-a1cb-4ad5-95ed-51ec8fc06c22",
   "metadata": {},
   "source": [
    "# 7. Average Contribution of Pollutants to AQI\n",
    "\n",
    "**Similarities:**\n",
    "\n",
    "1. PM10 is the **dominant pollutant** at all stations, contributing the most to AQI levels.\n",
    "2. Ozone and PM2.5 show moderate contributions across locations.\n",
    "\n",
    "**Differences:**\n",
    "\n",
    "1. Unlike other stations the contribution of O3 is significantly **higher at PED.**\n",
    "2. The highest contributor of pollutant **PM10 are BJU, MER and TLA**\n"
   ]
  },
  {
   "cell_type": "markdown",
   "id": "fe7eb8b5-aaa3-40e7-85a6-acd648505a43",
   "metadata": {},
   "source": [
    "# 8. Conclusion\n",
    "\n",
    "1. **Regional Trends:** All stations exhibit similar seasonal AQI fluctuations, influenced by winter temperature inversions and summer pollutant dispersion.\n",
    "2. **Station-Specific Insights:** MER, BJU and PED experience consistently higher AQI and **TLA generally has better air quality.**\n",
    "3. **Key Pollutants: PM10** remains the primary contributor to AQI, with O3 and PM2.5 also playing significant roles.\n"
   ]
  }
 ],
 "metadata": {
  "kernelspec": {
   "display_name": "Python [conda env:base] *",
   "language": "python",
   "name": "conda-base-py"
  },
  "language_info": {
   "codemirror_mode": {
    "name": "ipython",
    "version": 3
   },
   "file_extension": ".py",
   "mimetype": "text/x-python",
   "name": "python",
   "nbconvert_exporter": "python",
   "pygments_lexer": "ipython3",
   "version": "3.12.7"
  }
 },
 "nbformat": 4,
 "nbformat_minor": 5
}
